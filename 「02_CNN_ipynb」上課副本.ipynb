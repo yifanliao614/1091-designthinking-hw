{
  "nbformat": 4,
  "nbformat_minor": 0,
  "metadata": {
    "kernelspec": {
      "display_name": "Python 3",
      "language": "python",
      "name": "python3"
    },
    "language_info": {
      "codemirror_mode": {
        "name": "ipython",
        "version": 3
      },
      "file_extension": ".py",
      "mimetype": "text/x-python",
      "name": "python",
      "nbconvert_exporter": "python",
      "pygments_lexer": "ipython3",
      "version": "3.7.3"
    },
    "colab": {
      "name": "「02 CNN.ipynb」上課副本",
      "provenance": []
    },
    "accelerator": "GPU",
    "widgets": {
      "application/vnd.jupyter.widget-state+json": {
        "a6490c53e1dd470ba0130bfda95c5742": {
          "model_module": "@jupyter-widgets/controls",
          "model_name": "VBoxModel",
          "state": {
            "_view_name": "VBoxView",
            "_dom_classes": [
              "widget-interact"
            ],
            "_model_name": "VBoxModel",
            "_view_module": "@jupyter-widgets/controls",
            "_model_module_version": "1.5.0",
            "_view_count": null,
            "_view_module_version": "1.5.0",
            "box_style": "",
            "layout": "IPY_MODEL_cc675b82a38949129f19986d8ece4e0c",
            "_model_module": "@jupyter-widgets/controls",
            "children": [
              "IPY_MODEL_7cc83d0ae965450fa1d21b5dc12c89d1",
              "IPY_MODEL_20162d24ec4849f2b5c83ea6d0f13cb1",
              "IPY_MODEL_8191b1e39dc845838ba1f52aee992a37"
            ]
          }
        },
        "cc675b82a38949129f19986d8ece4e0c": {
          "model_module": "@jupyter-widgets/base",
          "model_name": "LayoutModel",
          "state": {
            "_view_name": "LayoutView",
            "grid_template_rows": null,
            "right": null,
            "justify_content": null,
            "_view_module": "@jupyter-widgets/base",
            "overflow": null,
            "_model_module_version": "1.2.0",
            "_view_count": null,
            "flex_flow": null,
            "width": null,
            "min_width": null,
            "border": null,
            "align_items": null,
            "bottom": null,
            "_model_module": "@jupyter-widgets/base",
            "top": null,
            "grid_column": null,
            "overflow_y": null,
            "overflow_x": null,
            "grid_auto_flow": null,
            "grid_area": null,
            "grid_template_columns": null,
            "flex": null,
            "_model_name": "LayoutModel",
            "justify_items": null,
            "grid_row": null,
            "max_height": null,
            "align_content": null,
            "visibility": null,
            "align_self": null,
            "height": null,
            "min_height": null,
            "padding": null,
            "grid_auto_rows": null,
            "grid_gap": null,
            "max_width": null,
            "order": null,
            "_view_module_version": "1.2.0",
            "grid_template_areas": null,
            "object_position": null,
            "object_fit": null,
            "grid_auto_columns": null,
            "margin": null,
            "display": null,
            "left": null
          }
        },
        "7cc83d0ae965450fa1d21b5dc12c89d1": {
          "model_module": "@jupyter-widgets/controls",
          "model_name": "IntSliderModel",
          "state": {
            "_view_name": "IntSliderView",
            "style": "IPY_MODEL_6f5589f5a50242a1b4df6b75e4434e36",
            "_dom_classes": [],
            "description": "n",
            "step": 1,
            "_model_name": "IntSliderModel",
            "orientation": "horizontal",
            "max": 9999,
            "_view_module": "@jupyter-widgets/controls",
            "_model_module_version": "1.5.0",
            "value": 6379,
            "_view_count": null,
            "disabled": false,
            "_view_module_version": "1.5.0",
            "min": 0,
            "continuous_update": true,
            "readout_format": "d",
            "description_tooltip": null,
            "readout": true,
            "_model_module": "@jupyter-widgets/controls",
            "layout": "IPY_MODEL_117a0bfdfe9145f5b135f55e6ab2ecbb"
          }
        },
        "20162d24ec4849f2b5c83ea6d0f13cb1": {
          "model_module": "@jupyter-widgets/controls",
          "model_name": "ButtonModel",
          "state": {
            "_view_name": "ButtonView",
            "style": "IPY_MODEL_bb8892e354a6491b8cb2dbaebb1f4edc",
            "_dom_classes": [],
            "description": "Run Interact",
            "_model_name": "ButtonModel",
            "button_style": "",
            "_view_module": "@jupyter-widgets/controls",
            "_model_module_version": "1.5.0",
            "tooltip": "",
            "_view_count": null,
            "disabled": false,
            "_view_module_version": "1.5.0",
            "layout": "IPY_MODEL_2c5235a670bc4bdbb9ef17f6ee9d2ebe",
            "_model_module": "@jupyter-widgets/controls",
            "icon": ""
          }
        },
        "8191b1e39dc845838ba1f52aee992a37": {
          "model_module": "@jupyter-widgets/output",
          "model_name": "OutputModel",
          "state": {
            "_view_name": "OutputView",
            "msg_id": "",
            "_dom_classes": [],
            "_model_name": "OutputModel",
            "outputs": [
              {
                "output_type": "stream",
                "metadata": {
                  "tags": []
                },
                "text": "我可愛的 CNN 預測是 3\n",
                "stream": "stdout"
              },
              {
                "output_type": "display_data",
                "metadata": {
                  "tags": [],
                  "needs_background": "light"
                },
                "image/png": "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\n",
                "text/plain": "<Figure size 432x288 with 1 Axes>"
              }
            ],
            "_view_module": "@jupyter-widgets/output",
            "_model_module_version": "1.0.0",
            "_view_count": null,
            "_view_module_version": "1.0.0",
            "layout": "IPY_MODEL_fd6e5e605cd041abb3d83c9580e564ff",
            "_model_module": "@jupyter-widgets/output"
          }
        },
        "6f5589f5a50242a1b4df6b75e4434e36": {
          "model_module": "@jupyter-widgets/controls",
          "model_name": "SliderStyleModel",
          "state": {
            "_view_name": "StyleView",
            "handle_color": null,
            "_model_name": "SliderStyleModel",
            "description_width": "",
            "_view_module": "@jupyter-widgets/base",
            "_model_module_version": "1.5.0",
            "_view_count": null,
            "_view_module_version": "1.2.0",
            "_model_module": "@jupyter-widgets/controls"
          }
        },
        "117a0bfdfe9145f5b135f55e6ab2ecbb": {
          "model_module": "@jupyter-widgets/base",
          "model_name": "LayoutModel",
          "state": {
            "_view_name": "LayoutView",
            "grid_template_rows": null,
            "right": null,
            "justify_content": null,
            "_view_module": "@jupyter-widgets/base",
            "overflow": null,
            "_model_module_version": "1.2.0",
            "_view_count": null,
            "flex_flow": null,
            "width": null,
            "min_width": null,
            "border": null,
            "align_items": null,
            "bottom": null,
            "_model_module": "@jupyter-widgets/base",
            "top": null,
            "grid_column": null,
            "overflow_y": null,
            "overflow_x": null,
            "grid_auto_flow": null,
            "grid_area": null,
            "grid_template_columns": null,
            "flex": null,
            "_model_name": "LayoutModel",
            "justify_items": null,
            "grid_row": null,
            "max_height": null,
            "align_content": null,
            "visibility": null,
            "align_self": null,
            "height": null,
            "min_height": null,
            "padding": null,
            "grid_auto_rows": null,
            "grid_gap": null,
            "max_width": null,
            "order": null,
            "_view_module_version": "1.2.0",
            "grid_template_areas": null,
            "object_position": null,
            "object_fit": null,
            "grid_auto_columns": null,
            "margin": null,
            "display": null,
            "left": null
          }
        },
        "bb8892e354a6491b8cb2dbaebb1f4edc": {
          "model_module": "@jupyter-widgets/controls",
          "model_name": "ButtonStyleModel",
          "state": {
            "_view_name": "StyleView",
            "_model_name": "ButtonStyleModel",
            "_view_module": "@jupyter-widgets/base",
            "_model_module_version": "1.5.0",
            "_view_count": null,
            "button_color": null,
            "font_weight": "",
            "_view_module_version": "1.2.0",
            "_model_module": "@jupyter-widgets/controls"
          }
        },
        "2c5235a670bc4bdbb9ef17f6ee9d2ebe": {
          "model_module": "@jupyter-widgets/base",
          "model_name": "LayoutModel",
          "state": {
            "_view_name": "LayoutView",
            "grid_template_rows": null,
            "right": null,
            "justify_content": null,
            "_view_module": "@jupyter-widgets/base",
            "overflow": null,
            "_model_module_version": "1.2.0",
            "_view_count": null,
            "flex_flow": null,
            "width": null,
            "min_width": null,
            "border": null,
            "align_items": null,
            "bottom": null,
            "_model_module": "@jupyter-widgets/base",
            "top": null,
            "grid_column": null,
            "overflow_y": null,
            "overflow_x": null,
            "grid_auto_flow": null,
            "grid_area": null,
            "grid_template_columns": null,
            "flex": null,
            "_model_name": "LayoutModel",
            "justify_items": null,
            "grid_row": null,
            "max_height": null,
            "align_content": null,
            "visibility": null,
            "align_self": null,
            "height": null,
            "min_height": null,
            "padding": null,
            "grid_auto_rows": null,
            "grid_gap": null,
            "max_width": null,
            "order": null,
            "_view_module_version": "1.2.0",
            "grid_template_areas": null,
            "object_position": null,
            "object_fit": null,
            "grid_auto_columns": null,
            "margin": null,
            "display": null,
            "left": null
          }
        },
        "fd6e5e605cd041abb3d83c9580e564ff": {
          "model_module": "@jupyter-widgets/base",
          "model_name": "LayoutModel",
          "state": {
            "_view_name": "LayoutView",
            "grid_template_rows": null,
            "right": null,
            "justify_content": null,
            "_view_module": "@jupyter-widgets/base",
            "overflow": null,
            "_model_module_version": "1.2.0",
            "_view_count": null,
            "flex_flow": null,
            "width": null,
            "min_width": null,
            "border": null,
            "align_items": null,
            "bottom": null,
            "_model_module": "@jupyter-widgets/base",
            "top": null,
            "grid_column": null,
            "overflow_y": null,
            "overflow_x": null,
            "grid_auto_flow": null,
            "grid_area": null,
            "grid_template_columns": null,
            "flex": null,
            "_model_name": "LayoutModel",
            "justify_items": null,
            "grid_row": null,
            "max_height": null,
            "align_content": null,
            "visibility": null,
            "align_self": null,
            "height": null,
            "min_height": null,
            "padding": null,
            "grid_auto_rows": null,
            "grid_gap": null,
            "max_width": null,
            "order": null,
            "_view_module_version": "1.2.0",
            "grid_template_areas": null,
            "object_position": null,
            "object_fit": null,
            "grid_auto_columns": null,
            "margin": null,
            "display": null,
            "left": null
          }
        }
      }
    }
  },
  "cells": [
    {
      "cell_type": "code",
      "metadata": {
        "id": "euNeU4wb9WrP"
      },
      "source": [
        "%matplotlib inline\n",
        "\n",
        "import numpy as np\n",
        "import matplotlib.pyplot as plt\n",
        "import pandas as pd"
      ],
      "execution_count": 1,
      "outputs": []
    },
    {
      "cell_type": "markdown",
      "metadata": {
        "id": "qmvQjsXP9sa4"
      },
      "source": [
        "畫面上要出現\n",
        "畫圖的讀進來\n",
        "panda目前不會用 但之後會需要 python 的 excell！"
      ]
    },
    {
      "cell_type": "code",
      "metadata": {
        "id": "nHPucOQ_9WrX"
      },
      "source": [
        "from tensorflow.keras.utils import to_categorical\n",
        "from tensorflow.keras.models import Sequential\n",
        "from tensorflow.keras.layers import Conv2D, MaxPooling2D\n",
        "from tensorflow.keras.layers import Dense, Flatten\n",
        "from tensorflow.keras.optimizers import SGD"
      ],
      "execution_count": 2,
      "outputs": []
    },
    {
      "cell_type": "markdown",
      "metadata": {
        "id": "1LZ0yUrg_yg5"
      },
      "source": [
        "優化方法：優化學習法：\n",
        "第三層 layer 標準圖形用2D 時間用1D\n",
        "Flatten拉平 這樣才能送進去"
      ]
    },
    {
      "cell_type": "markdown",
      "metadata": {
        "id": "b-oF3VWi9Wre"
      },
      "source": [
        "### 1. 讀入 MNSIT 數據集"
      ]
    },
    {
      "cell_type": "code",
      "metadata": {
        "id": "U7y_Pyou9Wrf"
      },
      "source": [
        "from tensorflow.keras.datasets import mnist"
      ],
      "execution_count": 3,
      "outputs": []
    },
    {
      "cell_type": "code",
      "metadata": {
        "id": "GJJVoSd59Wrj",
        "outputId": "8a128fff-a442-4699-e0b0-f906e26010b2",
        "colab": {
          "base_uri": "https://localhost:8080/"
        }
      },
      "source": [
        "(x_train, y_train), (x_test, y_test) = mnist.load_data()"
      ],
      "execution_count": 4,
      "outputs": [
        {
          "output_type": "stream",
          "text": [
            "Downloading data from https://storage.googleapis.com/tensorflow/tf-keras-datasets/mnist.npz\n",
            "11493376/11490434 [==============================] - 0s 0us/step\n"
          ],
          "name": "stdout"
        }
      ]
    },
    {
      "cell_type": "markdown",
      "metadata": {
        "id": "4uVYNkguARHB"
      },
      "source": [
        "train 和 test要分開讀"
      ]
    },
    {
      "cell_type": "markdown",
      "metadata": {
        "id": "i3MA886i9Wrm"
      },
      "source": [
        "### 2. 資料整理"
      ]
    },
    {
      "cell_type": "markdown",
      "metadata": {
        "id": "cXd90XWo9Wrn"
      },
      "source": [
        "### Channel\n",
        "\n",
        "CNN 要注意一張圖有多少個 channel, 開始我們因為只有灰階, 所以只有一個 channel。因此我們要轉一下我們的資料格式:\n",
        "\n",
        "    (28,28) --> (28, 28, 1)"
      ]
    },
    {
      "cell_type": "code",
      "metadata": {
        "id": "i2_AnyNO9Wrn"
      },
      "source": [
        "x_train = x_train.reshape(60000, 28, 28, 1) / 255"
      ],
      "execution_count": 5,
      "outputs": []
    },
    {
      "cell_type": "code",
      "metadata": {
        "id": "HO137sXT9Wrp"
      },
      "source": [
        "x_test = x_test.reshape(10000, 28, 28, 1) / 255"
      ],
      "execution_count": 6,
      "outputs": []
    },
    {
      "cell_type": "code",
      "metadata": {
        "id": "ehA1AWuC9Wrs"
      },
      "source": [
        "y_train = to_categorical(y_train, 10)\n",
        "y_test = to_categorical(y_test, 10)"
      ],
      "execution_count": 7,
      "outputs": []
    },
    {
      "cell_type": "markdown",
      "metadata": {
        "id": "Ia0yTaRXA0D0"
      },
      "source": [
        "專案要改的話 種類要在10的位置改變"
      ]
    },
    {
      "cell_type": "markdown",
      "metadata": {
        "id": "zk8BRoJu9Wrt"
      },
      "source": [
        "### 3. step 1: 打造函數學習機 (CNN)"
      ]
    },
    {
      "cell_type": "code",
      "metadata": {
        "id": "yFED3EPW9Wrt"
      },
      "source": [
        "model = Sequential()"
      ],
      "execution_count": 8,
      "outputs": []
    },
    {
      "cell_type": "code",
      "metadata": {
        "id": "q8ko-l1H9Wrv"
      },
      "source": [
        "model.add(Conv2D(8, (3,3), padding='same',\n",
        "                input_shape=(28,28,1),\n",
        "                activation='relu'))"
      ],
      "execution_count": 9,
      "outputs": []
    },
    {
      "cell_type": "markdown",
      "metadata": {
        "id": "PCGMZJ5tBRWf"
      },
      "source": [
        "(數字可改),(3,3)"
      ]
    },
    {
      "cell_type": "code",
      "metadata": {
        "id": "ffLf0w3a9Wrx"
      },
      "source": [
        "model.add(MaxPooling2D(pool_size=(2,2)))"
      ],
      "execution_count": 10,
      "outputs": []
    },
    {
      "cell_type": "code",
      "metadata": {
        "id": "dKKsV3U99Wry"
      },
      "source": [
        "model.add(Conv2D(16, (3,3), padding='same',\n",
        "                activation='relu'))"
      ],
      "execution_count": 11,
      "outputs": []
    },
    {
      "cell_type": "code",
      "metadata": {
        "id": "LFCnYsTJ9Wr0"
      },
      "source": [
        "model.add(MaxPooling2D(pool_size=(2,2)))"
      ],
      "execution_count": 12,
      "outputs": []
    },
    {
      "cell_type": "code",
      "metadata": {
        "id": "el9mcICK9Wr2"
      },
      "source": [
        "model.add(Conv2D(32, (3,3), padding='same',\n",
        "                activation='relu'))"
      ],
      "execution_count": 13,
      "outputs": []
    },
    {
      "cell_type": "code",
      "metadata": {
        "id": "YKVxSIay9Wr3"
      },
      "source": [
        "model.add(MaxPooling2D(pool_size=(2,2)))"
      ],
      "execution_count": 14,
      "outputs": []
    },
    {
      "cell_type": "code",
      "metadata": {
        "id": "ju982lN-9Wr5"
      },
      "source": [
        "model.add(Flatten())"
      ],
      "execution_count": 15,
      "outputs": []
    },
    {
      "cell_type": "code",
      "metadata": {
        "id": "UZN3iVlU9Wr6"
      },
      "source": [
        "model.add(Dense(20, activation='relu'))"
      ],
      "execution_count": 16,
      "outputs": []
    },
    {
      "cell_type": "code",
      "metadata": {
        "id": "WbUcQEe69Wr7"
      },
      "source": [
        "model.add(Dense(10, activation='softmax'))"
      ],
      "execution_count": 17,
      "outputs": []
    },
    {
      "cell_type": "markdown",
      "metadata": {
        "id": "gVd8k5Gu9Wr9"
      },
      "source": [
        "#### 看一下我們的神經網路"
      ]
    },
    {
      "cell_type": "code",
      "metadata": {
        "id": "Ru4O3mBf9Wr9",
        "outputId": "1a85a528-f326-4851-f7d8-b00fa8d264a7",
        "colab": {
          "base_uri": "https://localhost:8080/"
        }
      },
      "source": [
        "model.summary()"
      ],
      "execution_count": 18,
      "outputs": [
        {
          "output_type": "stream",
          "text": [
            "Model: \"sequential\"\n",
            "_________________________________________________________________\n",
            "Layer (type)                 Output Shape              Param #   \n",
            "=================================================================\n",
            "conv2d (Conv2D)              (None, 28, 28, 8)         80        \n",
            "_________________________________________________________________\n",
            "max_pooling2d (MaxPooling2D) (None, 14, 14, 8)         0         \n",
            "_________________________________________________________________\n",
            "conv2d_1 (Conv2D)            (None, 14, 14, 16)        1168      \n",
            "_________________________________________________________________\n",
            "max_pooling2d_1 (MaxPooling2 (None, 7, 7, 16)          0         \n",
            "_________________________________________________________________\n",
            "conv2d_2 (Conv2D)            (None, 7, 7, 32)          4640      \n",
            "_________________________________________________________________\n",
            "max_pooling2d_2 (MaxPooling2 (None, 3, 3, 32)          0         \n",
            "_________________________________________________________________\n",
            "flatten (Flatten)            (None, 288)               0         \n",
            "_________________________________________________________________\n",
            "dense (Dense)                (None, 20)                5780      \n",
            "_________________________________________________________________\n",
            "dense_1 (Dense)              (None, 10)                210       \n",
            "=================================================================\n",
            "Total params: 11,878\n",
            "Trainable params: 11,878\n",
            "Non-trainable params: 0\n",
            "_________________________________________________________________\n"
          ],
          "name": "stdout"
        }
      ]
    },
    {
      "cell_type": "markdown",
      "metadata": {
        "id": "HGWcy8ZZ9Wr_"
      },
      "source": [
        "#### 組裝"
      ]
    },
    {
      "cell_type": "code",
      "metadata": {
        "id": "z2VL06Nc9Wr_"
      },
      "source": [
        "model.compile(loss='mse', optimizer=SGD(lr=0.087),\n",
        "             metrics=['accuracy'])"
      ],
      "execution_count": 19,
      "outputs": []
    },
    {
      "cell_type": "markdown",
      "metadata": {
        "id": "6LnVVtvp9WsB"
      },
      "source": [
        "### 4. step 2: fit"
      ]
    },
    {
      "cell_type": "code",
      "metadata": {
        "scrolled": true,
        "id": "1W3AXeC29WsB",
        "outputId": "228bd6c5-d29a-4a8b-c93b-b5146abdff25",
        "colab": {
          "base_uri": "https://localhost:8080/"
        }
      },
      "source": [
        "model.fit(x_train, y_train, batch_size=128, epochs=12)"
      ],
      "execution_count": 20,
      "outputs": [
        {
          "output_type": "stream",
          "text": [
            "Epoch 1/12\n",
            "469/469 [==============================] - 2s 4ms/step - loss: 0.0898 - accuracy: 0.1314\n",
            "Epoch 2/12\n",
            "469/469 [==============================] - 2s 4ms/step - loss: 0.0892 - accuracy: 0.1827\n",
            "Epoch 3/12\n",
            "469/469 [==============================] - 2s 4ms/step - loss: 0.0880 - accuracy: 0.2305\n",
            "Epoch 4/12\n",
            "469/469 [==============================] - 2s 4ms/step - loss: 0.0823 - accuracy: 0.3127\n",
            "Epoch 5/12\n",
            "469/469 [==============================] - 2s 4ms/step - loss: 0.0613 - accuracy: 0.5650\n",
            "Epoch 6/12\n",
            "469/469 [==============================] - 2s 4ms/step - loss: 0.0342 - accuracy: 0.7684\n",
            "Epoch 7/12\n",
            "469/469 [==============================] - 2s 4ms/step - loss: 0.0269 - accuracy: 0.8147\n",
            "Epoch 8/12\n",
            "469/469 [==============================] - 2s 4ms/step - loss: 0.0237 - accuracy: 0.8355\n",
            "Epoch 9/12\n",
            "469/469 [==============================] - 2s 4ms/step - loss: 0.0200 - accuracy: 0.8657\n",
            "Epoch 10/12\n",
            "469/469 [==============================] - 2s 4ms/step - loss: 0.0122 - accuracy: 0.9252\n",
            "Epoch 11/12\n",
            "469/469 [==============================] - 2s 4ms/step - loss: 0.0099 - accuracy: 0.9380\n",
            "Epoch 12/12\n",
            "469/469 [==============================] - 2s 4ms/step - loss: 0.0088 - accuracy: 0.9437\n"
          ],
          "name": "stdout"
        },
        {
          "output_type": "execute_result",
          "data": {
            "text/plain": [
              "<tensorflow.python.keras.callbacks.History at 0x7fb76044d588>"
            ]
          },
          "metadata": {
            "tags": []
          },
          "execution_count": 20
        }
      ]
    },
    {
      "cell_type": "markdown",
      "metadata": {
        "id": "17jDohDv9WsC"
      },
      "source": [
        "### Step 3. 預測"
      ]
    },
    {
      "cell_type": "code",
      "metadata": {
        "id": "2ZUr6kGD9WsD",
        "outputId": "73b6d014-9209-4633-ace9-81fa6235d178",
        "colab": {
          "base_uri": "https://localhost:8080/"
        }
      },
      "source": [
        "result = model.predict_classes(x_test)"
      ],
      "execution_count": 21,
      "outputs": [
        {
          "output_type": "stream",
          "text": [
            "WARNING:tensorflow:From <ipython-input-21-63af5bb2f9b6>:1: Sequential.predict_classes (from tensorflow.python.keras.engine.sequential) is deprecated and will be removed after 2021-01-01.\n",
            "Instructions for updating:\n",
            "Please use instead:* `np.argmax(model.predict(x), axis=-1)`,   if your model does multi-class classification   (e.g. if it uses a `softmax` last-layer activation).* `(model.predict(x) > 0.5).astype(\"int32\")`,   if your model does binary classification   (e.g. if it uses a `sigmoid` last-layer activation).\n"
          ],
          "name": "stdout"
        }
      ]
    },
    {
      "cell_type": "markdown",
      "metadata": {
        "id": "TwHAoxMJ9WsE"
      },
      "source": [
        "### 看看測試資料表現如何"
      ]
    },
    {
      "cell_type": "code",
      "metadata": {
        "id": "UBHf3J1k9WsE",
        "outputId": "1bd16669-e9cb-404e-ed1b-8b4b2c1d5988",
        "colab": {
          "base_uri": "https://localhost:8080/"
        }
      },
      "source": [
        "loss, acc = model.evaluate(x_test, y_test)"
      ],
      "execution_count": 22,
      "outputs": [
        {
          "output_type": "stream",
          "text": [
            "313/313 [==============================] - 1s 2ms/step - loss: 0.0075 - accuracy: 0.9524\n"
          ],
          "name": "stdout"
        }
      ]
    },
    {
      "cell_type": "code",
      "metadata": {
        "id": "0IKg7nhy9WsG",
        "outputId": "6d110411-97a9-4cd4-e930-2a6fa7d2b3a9",
        "colab": {
          "base_uri": "https://localhost:8080/"
        }
      },
      "source": [
        "print(f'測試資料的正確率為 {acc*100:.2f}%')"
      ],
      "execution_count": 23,
      "outputs": [
        {
          "output_type": "stream",
          "text": [
            "測試資料的正確率為 95.24%\n"
          ],
          "name": "stdout"
        }
      ]
    },
    {
      "cell_type": "code",
      "metadata": {
        "id": "8540boo09WsH"
      },
      "source": [
        "def my_predict(n):\n",
        "    print('我可愛的 CNN 預測是', result[n])\n",
        "    X = x_test[n].reshape(28,28)\n",
        "    plt.imshow(X, cmap='Greys')"
      ],
      "execution_count": 24,
      "outputs": []
    },
    {
      "cell_type": "code",
      "metadata": {
        "id": "pzqKsLJP9WsI"
      },
      "source": [
        "from ipywidgets import interact_manual"
      ],
      "execution_count": 25,
      "outputs": []
    },
    {
      "cell_type": "code",
      "metadata": {
        "id": "fr27WWwo9WsJ",
        "outputId": "751f61b4-5dd3-4c6a-be18-bc47ffda5ee7",
        "colab": {
          "base_uri": "https://localhost:8080/",
          "height": 346,
          "referenced_widgets": [
            "a6490c53e1dd470ba0130bfda95c5742",
            "cc675b82a38949129f19986d8ece4e0c",
            "7cc83d0ae965450fa1d21b5dc12c89d1",
            "20162d24ec4849f2b5c83ea6d0f13cb1",
            "8191b1e39dc845838ba1f52aee992a37",
            "6f5589f5a50242a1b4df6b75e4434e36",
            "117a0bfdfe9145f5b135f55e6ab2ecbb",
            "bb8892e354a6491b8cb2dbaebb1f4edc",
            "2c5235a670bc4bdbb9ef17f6ee9d2ebe",
            "fd6e5e605cd041abb3d83c9580e564ff"
          ]
        }
      },
      "source": [
        "interact_manual(my_predict, n=(0, 9999));"
      ],
      "execution_count": 26,
      "outputs": [
        {
          "output_type": "display_data",
          "data": {
            "application/vnd.jupyter.widget-view+json": {
              "model_id": "a6490c53e1dd470ba0130bfda95c5742",
              "version_minor": 0,
              "version_major": 2
            },
            "text/plain": [
              "interactive(children=(IntSlider(value=4999, description='n', max=9999), Button(description='Run Interact', sty…"
            ]
          },
          "metadata": {
            "tags": []
          }
        }
      ]
    },
    {
      "cell_type": "markdown",
      "metadata": {
        "id": "zFVbw1Ad9WsL"
      },
      "source": [
        "### 把我們的 model 存起來"
      ]
    },
    {
      "cell_type": "code",
      "metadata": {
        "id": "rNKizHHE9WsL"
      },
      "source": [
        "model.save('myCNNmodel.h5')"
      ],
      "execution_count": 27,
      "outputs": []
    }
  ]
}